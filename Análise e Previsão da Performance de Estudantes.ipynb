{
 "cells": [
  {
   "cell_type": "code",
   "execution_count": 142,
   "id": "57a39e54",
   "metadata": {},
   "outputs": [],
   "source": [
    "import pandas as pd\n",
    "import numpy as np\n",
    "import matplotlib.pyplot as plt\n",
    "import seaborn as sns"
   ]
  },
  {
   "cell_type": "code",
   "execution_count": 143,
   "id": "894624e7",
   "metadata": {},
   "outputs": [],
   "source": [
    "dados = pd.read_csv('data/Student performance in mathematics.csv')"
   ]
  },
  {
   "cell_type": "code",
   "execution_count": 144,
   "id": "2087c9c8",
   "metadata": {},
   "outputs": [
    {
     "data": {
      "text/html": [
       "<div>\n",
       "<style scoped>\n",
       "    .dataframe tbody tr th:only-of-type {\n",
       "        vertical-align: middle;\n",
       "    }\n",
       "\n",
       "    .dataframe tbody tr th {\n",
       "        vertical-align: top;\n",
       "    }\n",
       "\n",
       "    .dataframe thead th {\n",
       "        text-align: right;\n",
       "    }\n",
       "</style>\n",
       "<table border=\"1\" class=\"dataframe\">\n",
       "  <thead>\n",
       "    <tr style=\"text-align: right;\">\n",
       "      <th></th>\n",
       "      <th>Student ID</th>\n",
       "      <th>Gender</th>\n",
       "      <th>Race/ethnicity</th>\n",
       "      <th>Parental level of education</th>\n",
       "      <th>Lunch</th>\n",
       "      <th>Test preparation course</th>\n",
       "      <th>Math score</th>\n",
       "      <th>Reading score</th>\n",
       "      <th>Writing score</th>\n",
       "    </tr>\n",
       "  </thead>\n",
       "  <tbody>\n",
       "    <tr>\n",
       "      <th>0</th>\n",
       "      <td>1</td>\n",
       "      <td>Female</td>\n",
       "      <td>Group B</td>\n",
       "      <td>Bachelor's degree</td>\n",
       "      <td>Yes</td>\n",
       "      <td>Completed</td>\n",
       "      <td>72</td>\n",
       "      <td>72</td>\n",
       "      <td>74</td>\n",
       "    </tr>\n",
       "    <tr>\n",
       "      <th>1</th>\n",
       "      <td>2</td>\n",
       "      <td>Female</td>\n",
       "      <td>Group C</td>\n",
       "      <td>Some college</td>\n",
       "      <td>No</td>\n",
       "      <td>None</td>\n",
       "      <td>69</td>\n",
       "      <td>90</td>\n",
       "      <td>88</td>\n",
       "    </tr>\n",
       "    <tr>\n",
       "      <th>2</th>\n",
       "      <td>3</td>\n",
       "      <td>Female</td>\n",
       "      <td>Group B</td>\n",
       "      <td>Master's degree</td>\n",
       "      <td>No</td>\n",
       "      <td>Completed</td>\n",
       "      <td>90</td>\n",
       "      <td>95</td>\n",
       "      <td>93</td>\n",
       "    </tr>\n",
       "    <tr>\n",
       "      <th>3</th>\n",
       "      <td>4</td>\n",
       "      <td>Male</td>\n",
       "      <td>Group A</td>\n",
       "      <td>Associate's degree</td>\n",
       "      <td>Yes</td>\n",
       "      <td>None</td>\n",
       "      <td>47</td>\n",
       "      <td>57</td>\n",
       "      <td>44</td>\n",
       "    </tr>\n",
       "    <tr>\n",
       "      <th>4</th>\n",
       "      <td>5</td>\n",
       "      <td>Male</td>\n",
       "      <td>Group C</td>\n",
       "      <td>Some college</td>\n",
       "      <td>Yes</td>\n",
       "      <td>None</td>\n",
       "      <td>76</td>\n",
       "      <td>78</td>\n",
       "      <td>75</td>\n",
       "    </tr>\n",
       "  </tbody>\n",
       "</table>\n",
       "</div>"
      ],
      "text/plain": [
       "   Student ID  Gender Race/ethnicity Parental level of education Lunch  \\\n",
       "0           1  Female        Group B           Bachelor's degree   Yes   \n",
       "1           2  Female        Group C                Some college    No   \n",
       "2           3  Female        Group B             Master's degree    No   \n",
       "3           4    Male        Group A          Associate's degree   Yes   \n",
       "4           5    Male        Group C                Some college   Yes   \n",
       "\n",
       "  Test preparation course  Math score  Reading score  Writing score  \n",
       "0               Completed          72             72             74  \n",
       "1                    None          69             90             88  \n",
       "2               Completed          90             95             93  \n",
       "3                    None          47             57             44  \n",
       "4                    None          76             78             75  "
      ]
     },
     "execution_count": 144,
     "metadata": {},
     "output_type": "execute_result"
    }
   ],
   "source": [
    "dados.head()"
   ]
  },
  {
   "cell_type": "code",
   "execution_count": 145,
   "id": "2fbf61b8",
   "metadata": {},
   "outputs": [],
   "source": [
    "dados.drop('Student ID', axis = 1, inplace = True)"
   ]
  },
  {
   "cell_type": "code",
   "execution_count": 146,
   "id": "e44712a9",
   "metadata": {},
   "outputs": [
    {
     "name": "stdout",
     "output_type": "stream",
     "text": [
      "<class 'pandas.core.frame.DataFrame'>\n",
      "RangeIndex: 207 entries, 0 to 206\n",
      "Data columns (total 8 columns):\n",
      " #   Column                       Non-Null Count  Dtype \n",
      "---  ------                       --------------  ----- \n",
      " 0   Gender                       207 non-null    object\n",
      " 1   Race/ethnicity               207 non-null    object\n",
      " 2   Parental level of education  207 non-null    object\n",
      " 3   Lunch                        207 non-null    object\n",
      " 4   Test preparation course      207 non-null    object\n",
      " 5   Math score                   207 non-null    int64 \n",
      " 6   Reading score                207 non-null    int64 \n",
      " 7   Writing score                207 non-null    int64 \n",
      "dtypes: int64(3), object(5)\n",
      "memory usage: 13.1+ KB\n"
     ]
    }
   ],
   "source": [
    "dados.info()"
   ]
  },
  {
   "cell_type": "code",
   "execution_count": 147,
   "id": "8a4e9629",
   "metadata": {},
   "outputs": [
    {
     "data": {
      "text/html": [
       "<div>\n",
       "<style scoped>\n",
       "    .dataframe tbody tr th:only-of-type {\n",
       "        vertical-align: middle;\n",
       "    }\n",
       "\n",
       "    .dataframe tbody tr th {\n",
       "        vertical-align: top;\n",
       "    }\n",
       "\n",
       "    .dataframe thead th {\n",
       "        text-align: right;\n",
       "    }\n",
       "</style>\n",
       "<table border=\"1\" class=\"dataframe\">\n",
       "  <thead>\n",
       "    <tr style=\"text-align: right;\">\n",
       "      <th></th>\n",
       "      <th>Math score</th>\n",
       "      <th>Reading score</th>\n",
       "      <th>Writing score</th>\n",
       "    </tr>\n",
       "  </thead>\n",
       "  <tbody>\n",
       "    <tr>\n",
       "      <th>count</th>\n",
       "      <td>207.000000</td>\n",
       "      <td>207.000000</td>\n",
       "      <td>207.000000</td>\n",
       "    </tr>\n",
       "    <tr>\n",
       "      <th>mean</th>\n",
       "      <td>69.207729</td>\n",
       "      <td>69.898551</td>\n",
       "      <td>68.971014</td>\n",
       "    </tr>\n",
       "    <tr>\n",
       "      <th>std</th>\n",
       "      <td>13.528838</td>\n",
       "      <td>14.960607</td>\n",
       "      <td>15.843259</td>\n",
       "    </tr>\n",
       "    <tr>\n",
       "      <th>min</th>\n",
       "      <td>38.000000</td>\n",
       "      <td>38.000000</td>\n",
       "      <td>35.000000</td>\n",
       "    </tr>\n",
       "    <tr>\n",
       "      <th>25%</th>\n",
       "      <td>59.500000</td>\n",
       "      <td>59.000000</td>\n",
       "      <td>57.000000</td>\n",
       "    </tr>\n",
       "    <tr>\n",
       "      <th>50%</th>\n",
       "      <td>69.000000</td>\n",
       "      <td>70.000000</td>\n",
       "      <td>70.000000</td>\n",
       "    </tr>\n",
       "    <tr>\n",
       "      <th>75%</th>\n",
       "      <td>79.000000</td>\n",
       "      <td>80.000000</td>\n",
       "      <td>80.000000</td>\n",
       "    </tr>\n",
       "    <tr>\n",
       "      <th>max</th>\n",
       "      <td>98.000000</td>\n",
       "      <td>100.000000</td>\n",
       "      <td>100.000000</td>\n",
       "    </tr>\n",
       "  </tbody>\n",
       "</table>\n",
       "</div>"
      ],
      "text/plain": [
       "       Math score  Reading score  Writing score\n",
       "count  207.000000     207.000000     207.000000\n",
       "mean    69.207729      69.898551      68.971014\n",
       "std     13.528838      14.960607      15.843259\n",
       "min     38.000000      38.000000      35.000000\n",
       "25%     59.500000      59.000000      57.000000\n",
       "50%     69.000000      70.000000      70.000000\n",
       "75%     79.000000      80.000000      80.000000\n",
       "max     98.000000     100.000000     100.000000"
      ]
     },
     "execution_count": 147,
     "metadata": {},
     "output_type": "execute_result"
    }
   ],
   "source": [
    "dados.describe()"
   ]
  },
  {
   "cell_type": "code",
   "execution_count": 148,
   "id": "9c407015",
   "metadata": {},
   "outputs": [
    {
     "data": {
      "text/html": [
       "<div>\n",
       "<style scoped>\n",
       "    .dataframe tbody tr th:only-of-type {\n",
       "        vertical-align: middle;\n",
       "    }\n",
       "\n",
       "    .dataframe tbody tr th {\n",
       "        vertical-align: top;\n",
       "    }\n",
       "\n",
       "    .dataframe thead th {\n",
       "        text-align: right;\n",
       "    }\n",
       "</style>\n",
       "<table border=\"1\" class=\"dataframe\">\n",
       "  <thead>\n",
       "    <tr style=\"text-align: right;\">\n",
       "      <th></th>\n",
       "      <th>Math score</th>\n",
       "      <th>Reading score</th>\n",
       "      <th>Writing score</th>\n",
       "    </tr>\n",
       "  </thead>\n",
       "  <tbody>\n",
       "    <tr>\n",
       "      <th>Math score</th>\n",
       "      <td>1.000000</td>\n",
       "      <td>0.920590</td>\n",
       "      <td>0.938897</td>\n",
       "    </tr>\n",
       "    <tr>\n",
       "      <th>Reading score</th>\n",
       "      <td>0.920590</td>\n",
       "      <td>1.000000</td>\n",
       "      <td>0.983069</td>\n",
       "    </tr>\n",
       "    <tr>\n",
       "      <th>Writing score</th>\n",
       "      <td>0.938897</td>\n",
       "      <td>0.983069</td>\n",
       "      <td>1.000000</td>\n",
       "    </tr>\n",
       "  </tbody>\n",
       "</table>\n",
       "</div>"
      ],
      "text/plain": [
       "               Math score  Reading score  Writing score\n",
       "Math score       1.000000       0.920590       0.938897\n",
       "Reading score    0.920590       1.000000       0.983069\n",
       "Writing score    0.938897       0.983069       1.000000"
      ]
     },
     "execution_count": 148,
     "metadata": {},
     "output_type": "execute_result"
    }
   ],
   "source": [
    "dados.corr()"
   ]
  },
  {
   "cell_type": "code",
   "execution_count": 149,
   "id": "e27af505",
   "metadata": {},
   "outputs": [
    {
     "data": {
      "text/plain": [
       "<AxesSubplot:>"
      ]
     },
     "execution_count": 149,
     "metadata": {},
     "output_type": "execute_result"
    },
    {
     "data": {
      "image/png": "[encoded data removed]",
      "text/plain": [
       "<Figure size 640x480 with 2 Axes>"
      ]
     },
     "metadata": {},
     "output_type": "display_data"
    }
   ],
   "source": [
    "sns.heatmap(dados.corr(), cmap=\"YlGnBu\", annot = True)"
   ]
  },
  {
   "cell_type": "code",
   "execution_count": 150,
   "id": "528b886f",
   "metadata": {},
   "outputs": [],
   "source": [
    "# Os dados estão altamente correlacionados"
   ]
  },
  {
   "cell_type": "code",
   "execution_count": 151,
   "id": "01f67ea9",
   "metadata": {},
   "outputs": [
    {
     "data": {
      "text/plain": [
       "Female    105\n",
       "Male      102\n",
       "Name: Gender, dtype: int64"
      ]
     },
     "execution_count": 151,
     "metadata": {},
     "output_type": "execute_result"
    }
   ],
   "source": [
    "dados['Gender'].value_counts()"
   ]
  },
  {
   "cell_type": "code",
   "execution_count": 152,
   "id": "779de610",
   "metadata": {},
   "outputs": [],
   "source": [
    "media_das_notas = round((dados['Math score'] + dados['Reading score'] + dados['Writing score']) / 3)"
   ]
  },
  {
   "cell_type": "code",
   "execution_count": 153,
   "id": "9b3e3fe9",
   "metadata": {},
   "outputs": [
    {
     "data": {
      "text/html": [
       "<div>\n",
       "<style scoped>\n",
       "    .dataframe tbody tr th:only-of-type {\n",
       "        vertical-align: middle;\n",
       "    }\n",
       "\n",
       "    .dataframe tbody tr th {\n",
       "        vertical-align: top;\n",
       "    }\n",
       "\n",
       "    .dataframe thead th {\n",
       "        text-align: right;\n",
       "    }\n",
       "</style>\n",
       "<table border=\"1\" class=\"dataframe\">\n",
       "  <thead>\n",
       "    <tr style=\"text-align: right;\">\n",
       "      <th></th>\n",
       "      <th>Gender</th>\n",
       "      <th>Race/ethnicity</th>\n",
       "      <th>Parental level of education</th>\n",
       "      <th>Lunch</th>\n",
       "      <th>Test preparation course</th>\n",
       "      <th>Math score</th>\n",
       "      <th>Reading score</th>\n",
       "      <th>Writing score</th>\n",
       "    </tr>\n",
       "  </thead>\n",
       "  <tbody>\n",
       "    <tr>\n",
       "      <th>202</th>\n",
       "      <td>Female</td>\n",
       "      <td>Group D</td>\n",
       "      <td>Some college</td>\n",
       "      <td>No</td>\n",
       "      <td>None</td>\n",
       "      <td>62</td>\n",
       "      <td>65</td>\n",
       "      <td>61</td>\n",
       "    </tr>\n",
       "    <tr>\n",
       "      <th>203</th>\n",
       "      <td>Male</td>\n",
       "      <td>Group C</td>\n",
       "      <td>Some high school</td>\n",
       "      <td>Yes</td>\n",
       "      <td>None</td>\n",
       "      <td>67</td>\n",
       "      <td>70</td>\n",
       "      <td>68</td>\n",
       "    </tr>\n",
       "    <tr>\n",
       "      <th>204</th>\n",
       "      <td>Female</td>\n",
       "      <td>Group B</td>\n",
       "      <td>Bachelor's degree</td>\n",
       "      <td>No</td>\n",
       "      <td>Completed</td>\n",
       "      <td>92</td>\n",
       "      <td>94</td>\n",
       "      <td>93</td>\n",
       "    </tr>\n",
       "    <tr>\n",
       "      <th>205</th>\n",
       "      <td>Male</td>\n",
       "      <td>Group C</td>\n",
       "      <td>High school</td>\n",
       "      <td>Yes</td>\n",
       "      <td>None</td>\n",
       "      <td>63</td>\n",
       "      <td>58</td>\n",
       "      <td>58</td>\n",
       "    </tr>\n",
       "    <tr>\n",
       "      <th>206</th>\n",
       "      <td>Female</td>\n",
       "      <td>Group D</td>\n",
       "      <td>High school</td>\n",
       "      <td>Yes</td>\n",
       "      <td>None</td>\n",
       "      <td>54</td>\n",
       "      <td>59</td>\n",
       "      <td>52</td>\n",
       "    </tr>\n",
       "  </tbody>\n",
       "</table>\n",
       "</div>"
      ],
      "text/plain": [
       "     Gender Race/ethnicity Parental level of education Lunch  \\\n",
       "202  Female        Group D                Some college    No   \n",
       "203    Male        Group C            Some high school   Yes   \n",
       "204  Female        Group B           Bachelor's degree    No   \n",
       "205    Male        Group C                 High school   Yes   \n",
       "206  Female        Group D                 High school   Yes   \n",
       "\n",
       "    Test preparation course  Math score  Reading score  Writing score  \n",
       "202                    None          62             65             61  \n",
       "203                    None          67             70             68  \n",
       "204               Completed          92             94             93  \n",
       "205                    None          63             58             58  \n",
       "206                    None          54             59             52  "
      ]
     },
     "execution_count": 153,
     "metadata": {},
     "output_type": "execute_result"
    }
   ],
   "source": [
    "dados.tail()"
   ]
  },
  {
   "cell_type": "markdown",
   "id": "f02ced7f",
   "metadata": {},
   "source": [
    "# Visualização"
   ]
  },
  {
   "cell_type": "code",
   "execution_count": 154,
   "id": "35b404a3",
   "metadata": {},
   "outputs": [
    {
     "data": {
      "text/plain": [
       "Text(0, 0.5, 'Média das Notas')"
      ]
     },
     "execution_count": 154,
     "metadata": {},
     "output_type": "execute_result"
    },
    {
     "data": {
      "image/png": "[encoded data removed]",
      "text/plain": [
       "<Figure size 600x400 with 1 Axes>"
      ]
     },
     "metadata": {},
     "output_type": "display_data"
    }
   ],
   "source": [
    "ax = sns.barplot(x = 'Gender', y = media_das_notas, data = dados)\n",
    "ax.figure.set_size_inches(6, 4)\n",
    "ax.set_ylabel('Média das Notas')"
   ]
  },
  {
   "cell_type": "code",
   "execution_count": 155,
   "id": "4a680a09",
   "metadata": {},
   "outputs": [
    {
     "data": {
      "text/plain": [
       "Text(0, 0.5, 'Média das Notas')"
      ]
     },
     "execution_count": 155,
     "metadata": {},
     "output_type": "execute_result"
    },
    {
     "data": {
      "image/png": "[encoded data removed]",
      "text/plain": [
       "<Figure size 1000x400 with 1 Axes>"
      ]
     },
     "metadata": {},
     "output_type": "display_data"
    }
   ],
   "source": [
    "ax = sns.barplot(x = 'Race/ethnicity', y = media_das_notas, data = dados)\n",
    "ax.figure.set_size_inches(10, 4)\n",
    "ax.set_ylabel('Média das Notas')"
   ]
  },
  {
   "cell_type": "code",
   "execution_count": 156,
   "id": "6b4ebae4",
   "metadata": {},
   "outputs": [
    {
     "data": {
      "text/plain": [
       "Text(0, 0.5, 'Média das Notas')"
      ]
     },
     "execution_count": 156,
     "metadata": {},
     "output_type": "execute_result"
    },
    {
     "data": {
      "image/png": "[encoded data removed]",
      "text/plain": [
       "<Figure size 1000x400 with 1 Axes>"
      ]
     },
     "metadata": {},
     "output_type": "display_data"
    }
   ],
   "source": [
    "ax = sns.barplot(x = 'Parental level of education', y = media_das_notas, data = dados)\n",
    "ax.figure.set_size_inches(10, 4)\n",
    "ax.set_ylabel('Média das Notas')"
   ]
  },
  {
   "cell_type": "code",
   "execution_count": 157,
   "id": "580c2e83",
   "metadata": {},
   "outputs": [
    {
     "data": {
      "text/plain": [
       "Text(0, 0.5, 'Média das Notas')"
      ]
     },
     "execution_count": 157,
     "metadata": {},
     "output_type": "execute_result"
    },
    {
     "data": {
      "image/png": "[encoded data removed]",
      "text/plain": [
       "<Figure size 600x400 with 1 Axes>"
      ]
     },
     "metadata": {},
     "output_type": "display_data"
    }
   ],
   "source": [
    "ax = sns.barplot(x = 'Lunch', y = media_das_notas, data = dados)\n",
    "ax.figure.set_size_inches(6, 4)\n",
    "ax.set_ylabel('Média das Notas')"
   ]
  },
  {
   "cell_type": "code",
   "execution_count": 158,
   "id": "777bb54f",
   "metadata": {},
   "outputs": [
    {
     "data": {
      "text/plain": [
       "Text(0, 0.5, 'Média das Notas')"
      ]
     },
     "execution_count": 158,
     "metadata": {},
     "output_type": "execute_result"
    },
    {
     "data": {
      "image/png": "[encoded data removed]",
      "text/plain": [
       "<Figure size 600x400 with 1 Axes>"
      ]
     },
     "metadata": {},
     "output_type": "display_data"
    }
   ],
   "source": [
    "ax = sns.barplot(x = 'Test preparation course', y = media_das_notas, data = dados)\n",
    "ax.figure.set_size_inches(6, 4)\n",
    "ax.set_ylabel('Média das Notas')"
   ]
  },
  {
   "cell_type": "markdown",
   "id": "df1f23b2",
   "metadata": {},
   "source": [
    "## Substituindo classes categoricas por numeros"
   ]
  },
  {
   "cell_type": "code",
   "execution_count": 159,
   "id": "c47ec0b5",
   "metadata": {},
   "outputs": [],
   "source": [
    "from sklearn.preprocessing import LabelEncoder\n",
    "\n",
    "le = LabelEncoder()\n",
    "objList = dados.drop(['Math score', 'Reading score', 'Writing score'], axis = 1)\n",
    "\n",
    "for obj in objList:\n",
    "    dados[obj] = le.fit_transform(dados[obj].astype(str))\n",
    "dados_le = dados[np.isfinite(dados).all(1)]"
   ]
  },
  {
   "cell_type": "code",
   "execution_count": 160,
   "id": "2048da68",
   "metadata": {},
   "outputs": [
    {
     "data": {
      "text/html": [
       "<div>\n",
       "<style scoped>\n",
       "    .dataframe tbody tr th:only-of-type {\n",
       "        vertical-align: middle;\n",
       "    }\n",
       "\n",
       "    .dataframe tbody tr th {\n",
       "        vertical-align: top;\n",
       "    }\n",
       "\n",
       "    .dataframe thead th {\n",
       "        text-align: right;\n",
       "    }\n",
       "</style>\n",
       "<table border=\"1\" class=\"dataframe\">\n",
       "  <thead>\n",
       "    <tr style=\"text-align: right;\">\n",
       "      <th></th>\n",
       "      <th>Gender</th>\n",
       "      <th>Race/ethnicity</th>\n",
       "      <th>Parental level of education</th>\n",
       "      <th>Lunch</th>\n",
       "      <th>Test preparation course</th>\n",
       "      <th>Math score</th>\n",
       "      <th>Reading score</th>\n",
       "      <th>Writing score</th>\n",
       "    </tr>\n",
       "  </thead>\n",
       "  <tbody>\n",
       "    <tr>\n",
       "      <th>0</th>\n",
       "      <td>0</td>\n",
       "      <td>1</td>\n",
       "      <td>1</td>\n",
       "      <td>1</td>\n",
       "      <td>0</td>\n",
       "      <td>72</td>\n",
       "      <td>72</td>\n",
       "      <td>74</td>\n",
       "    </tr>\n",
       "    <tr>\n",
       "      <th>1</th>\n",
       "      <td>0</td>\n",
       "      <td>2</td>\n",
       "      <td>4</td>\n",
       "      <td>0</td>\n",
       "      <td>1</td>\n",
       "      <td>69</td>\n",
       "      <td>90</td>\n",
       "      <td>88</td>\n",
       "    </tr>\n",
       "    <tr>\n",
       "      <th>2</th>\n",
       "      <td>0</td>\n",
       "      <td>1</td>\n",
       "      <td>3</td>\n",
       "      <td>0</td>\n",
       "      <td>0</td>\n",
       "      <td>90</td>\n",
       "      <td>95</td>\n",
       "      <td>93</td>\n",
       "    </tr>\n",
       "    <tr>\n",
       "      <th>3</th>\n",
       "      <td>1</td>\n",
       "      <td>0</td>\n",
       "      <td>0</td>\n",
       "      <td>1</td>\n",
       "      <td>1</td>\n",
       "      <td>47</td>\n",
       "      <td>57</td>\n",
       "      <td>44</td>\n",
       "    </tr>\n",
       "    <tr>\n",
       "      <th>4</th>\n",
       "      <td>1</td>\n",
       "      <td>2</td>\n",
       "      <td>4</td>\n",
       "      <td>1</td>\n",
       "      <td>1</td>\n",
       "      <td>76</td>\n",
       "      <td>78</td>\n",
       "      <td>75</td>\n",
       "    </tr>\n",
       "    <tr>\n",
       "      <th>...</th>\n",
       "      <td>...</td>\n",
       "      <td>...</td>\n",
       "      <td>...</td>\n",
       "      <td>...</td>\n",
       "      <td>...</td>\n",
       "      <td>...</td>\n",
       "      <td>...</td>\n",
       "      <td>...</td>\n",
       "    </tr>\n",
       "    <tr>\n",
       "      <th>202</th>\n",
       "      <td>0</td>\n",
       "      <td>3</td>\n",
       "      <td>4</td>\n",
       "      <td>0</td>\n",
       "      <td>1</td>\n",
       "      <td>62</td>\n",
       "      <td>65</td>\n",
       "      <td>61</td>\n",
       "    </tr>\n",
       "    <tr>\n",
       "      <th>203</th>\n",
       "      <td>1</td>\n",
       "      <td>2</td>\n",
       "      <td>5</td>\n",
       "      <td>1</td>\n",
       "      <td>1</td>\n",
       "      <td>67</td>\n",
       "      <td>70</td>\n",
       "      <td>68</td>\n",
       "    </tr>\n",
       "    <tr>\n",
       "      <th>204</th>\n",
       "      <td>0</td>\n",
       "      <td>1</td>\n",
       "      <td>1</td>\n",
       "      <td>0</td>\n",
       "      <td>0</td>\n",
       "      <td>92</td>\n",
       "      <td>94</td>\n",
       "      <td>93</td>\n",
       "    </tr>\n",
       "    <tr>\n",
       "      <th>205</th>\n",
       "      <td>1</td>\n",
       "      <td>2</td>\n",
       "      <td>2</td>\n",
       "      <td>1</td>\n",
       "      <td>1</td>\n",
       "      <td>63</td>\n",
       "      <td>58</td>\n",
       "      <td>58</td>\n",
       "    </tr>\n",
       "    <tr>\n",
       "      <th>206</th>\n",
       "      <td>0</td>\n",
       "      <td>3</td>\n",
       "      <td>2</td>\n",
       "      <td>1</td>\n",
       "      <td>1</td>\n",
       "      <td>54</td>\n",
       "      <td>59</td>\n",
       "      <td>52</td>\n",
       "    </tr>\n",
       "  </tbody>\n",
       "</table>\n",
       "<p>207 rows × 8 columns</p>\n",
       "</div>"
      ],
      "text/plain": [
       "     Gender  Race/ethnicity  Parental level of education  Lunch  \\\n",
       "0         0               1                            1      1   \n",
       "1         0               2                            4      0   \n",
       "2         0               1                            3      0   \n",
       "3         1               0                            0      1   \n",
       "4         1               2                            4      1   \n",
       "..      ...             ...                          ...    ...   \n",
       "202       0               3                            4      0   \n",
       "203       1               2                            5      1   \n",
       "204       0               1                            1      0   \n",
       "205       1               2                            2      1   \n",
       "206       0               3                            2      1   \n",
       "\n",
       "     Test preparation course  Math score  Reading score  Writing score  \n",
       "0                          0          72             72             74  \n",
       "1                          1          69             90             88  \n",
       "2                          0          90             95             93  \n",
       "3                          1          47             57             44  \n",
       "4                          1          76             78             75  \n",
       "..                       ...         ...            ...            ...  \n",
       "202                        1          62             65             61  \n",
       "203                        1          67             70             68  \n",
       "204                        0          92             94             93  \n",
       "205                        1          63             58             58  \n",
       "206                        1          54             59             52  \n",
       "\n",
       "[207 rows x 8 columns]"
      ]
     },
     "execution_count": 160,
     "metadata": {},
     "output_type": "execute_result"
    }
   ],
   "source": [
    "dados_le"
   ]
  },
  {
   "cell_type": "markdown",
   "id": "7930beb9",
   "metadata": {},
   "source": [
    "## Imports"
   ]
  },
  {
   "cell_type": "code",
   "execution_count": 161,
   "id": "3882e521",
   "metadata": {},
   "outputs": [],
   "source": [
    "from sklearn.model_selection import train_test_split\n",
    "from sklearn.linear_model import LinearRegression"
   ]
  },
  {
   "cell_type": "markdown",
   "id": "1fe43dd9",
   "metadata": {},
   "source": [
    "## Função para prever \"Math score\",\t\"Reading score\" e \"Writing score\""
   ]
  },
  {
   "cell_type": "code",
   "execution_count": 162,
   "id": "482c0f2d",
   "metadata": {},
   "outputs": [],
   "source": [
    "def aprendizado(coluna):\n",
    "    # dividindo os dados em x e y\n",
    "    X = dados_le.drop([coluna], axis = 1)\n",
    "    y = dados[coluna]\n",
    "    \n",
    "    # dados de treino e teste\n",
    "    xtrain, xtest, ytrain, ytest = train_test_split(X, y, test_size = 0.30, random_state = 0)\n",
    "    \n",
    "    # instanciando\n",
    "    lr = LinearRegression()\n",
    "    \n",
    "    # treinando\n",
    "    lr.fit(xtrain, ytrain)\n",
    "    \n",
    "    # resultado\n",
    "    resultado_lr = lr.score(xtest, ytest)\n",
    "    \n",
    "    # acuracia\n",
    "    print(f'Accuracy: {resultado_lr * 100:.2f}')"
   ]
  },
  {
   "cell_type": "markdown",
   "id": "7bf9ad5e",
   "metadata": {},
   "source": [
    "## Acuracia do \"Math score\""
   ]
  },
  {
   "cell_type": "code",
   "execution_count": 163,
   "id": "854d69ca",
   "metadata": {},
   "outputs": [
    {
     "name": "stdout",
     "output_type": "stream",
     "text": [
      "Accuracy: 90.09\n"
     ]
    }
   ],
   "source": [
    "aprendizado('Math score')"
   ]
  },
  {
   "cell_type": "markdown",
   "id": "8b89cb7c",
   "metadata": {},
   "source": [
    "## Acuracia do \"Reading score\""
   ]
  },
  {
   "cell_type": "code",
   "execution_count": 164,
   "id": "36c0f805",
   "metadata": {},
   "outputs": [
    {
     "name": "stdout",
     "output_type": "stream",
     "text": [
      "Accuracy: 96.94\n"
     ]
    }
   ],
   "source": [
    "aprendizado('Reading score')"
   ]
  },
  {
   "cell_type": "markdown",
   "id": "6083fc40",
   "metadata": {},
   "source": [
    "## Acuracia do \"Writing score\""
   ]
  },
  {
   "cell_type": "code",
   "execution_count": 165,
   "id": "a77ce1f1",
   "metadata": {},
   "outputs": [
    {
     "name": "stdout",
     "output_type": "stream",
     "text": [
      "Accuracy: 97.63\n"
     ]
    }
   ],
   "source": [
    "aprendizado('Writing score')"
   ]
  },
  {
   "cell_type": "markdown",
   "id": "e655967a",
   "metadata": {},
   "source": [
    "_"
   ]
  }
 ],
 "metadata": {
  "kernelspec": {
   "display_name": "Python 3 (ipykernel)",
   "language": "python",
   "name": "python3"
  },
  "language_info": {
   "codemirror_mode": {
    "name": "ipython",
    "version": 3
   },
   "file_extension": ".py",
   "mimetype": "text/x-python",
   "name": "python",
   "nbconvert_exporter": "python",
   "pygments_lexer": "ipython3",
   "version": "3.9.13"
  }
 },
 "nbformat": 4,
 "nbformat_minor": 5
}
